{
 "cells": [
  {
   "cell_type": "markdown",
   "metadata": {},
   "source": [
    "# The Atlas 3D Paper XXIII in a data science context\n"
   ]
  },
  {
   "cell_type": "markdown",
   "metadata": {},
   "source": [
    "## The Science\n",
    "\n",
    "\n",
    "The paper, *The ATLAS3D Project -- XXIII. Angular momentum and nuclear surface brightness profiles*, was published in May 2013: https://arxiv.org/abs/1305.4973\n",
    "\n"
   ]
  },
  {
   "cell_type": "markdown",
   "metadata": {},
   "source": [
    "## The Data\n",
    "\n",
    "The ATLAS3D sample is defined in Paper I and consists of 260 early- type galaxies, visually selected from a magnitude (brighter than −21.5 mag in the K band) and volume-limited (within 42 Mpc) parent sample. The full sample was observed with the integral- field spectrograph (IFS) SAURON (Bacon et al. 2001) mounted on William Herschel Telescope. The extraction of kinematics from the SAURON data is described in Paper I and Emsellem et al. (2004, for the sub-sample of 48 galaxies previously presented in the SAURON survey).\n",
    "\n",
    "We searched the HST archive for observations of ATLAS3D galaxies with three imaging instruments: Wide-field Planetary Camera 2(WFPC2; Holtzman et al. 1995), Advanced Camera for Surveys (ACS; Ford et al. 1998) and Wide-field Camera 3 (WFC3).\n",
    "\n",
    "Most observational astronomy images are stored as Flexible Image Transport System (FITS) files. You can read more about FITS iamges here: https://en.wikipedia.org/wiki/FITS\n",
    "\n",
    "\n",
    "### Exploring the images using Python\n",
    "\n",
    "\n",
    "\n"
   ]
  },
  {
   "cell_type": "markdown",
   "metadata": {},
   "source": [
    "For the purposes of this notebook, we can explore the images using the AstroPy library. But nearly always, I use the DS9\n",
    "interactive view to explore FITS images.\n"
   ]
  },
  {
   "cell_type": "code",
   "execution_count": 29,
   "metadata": {},
   "outputs": [],
   "source": [
    "import numpy as np\n",
    "import matplotlib\n",
    "import matplotlib.pyplot as plt\n",
    "%matplotlib inline\n",
    "\n",
    "from astropy.io import fits\n",
    "NGC3489 = fits.getdata('NGC3489_F814W.fits')"
   ]
  },
  {
   "cell_type": "markdown",
   "metadata": {},
   "source": [
    "The image is a 3601 x 3601 array of pixels"
   ]
  },
  {
   "cell_type": "code",
   "execution_count": 30,
   "metadata": {},
   "outputs": [
    {
     "name": "stdout",
     "output_type": "stream",
     "text": [
      "<class 'numpy.ndarray'>\n",
      "(3601, 3601)\n"
     ]
    }
   ],
   "source": [
    "print(type(NGC3489))\n",
    "print(NGC3489.shape)"
   ]
  },
  {
   "cell_type": "code",
   "execution_count": 34,
   "metadata": {},
   "outputs": [
    {
     "data": {
      "text/plain": [
       "<matplotlib.colorbar.Colorbar at 0x113485320>"
      ]
     },
     "execution_count": 34,
     "metadata": {},
     "output_type": "execute_result"
    },
    {
     "data": {
      "image/png": "[encoded data removed]",
      "text/plain": [
       "<matplotlib.figure.Figure at 0x11194e080>"
      ]
     },
     "metadata": {},
     "output_type": "display_data"
    }
   ],
   "source": [
    "plt.imshow(NGC3489, cmap='gray')\n",
    "plt.colorbar()\n",
    "\n",
    "# To see more color maps\n",
    "# http://wiki.scipy.org/Cookbook/Matplotlib/Show_colormaps"
   ]
  },
  {
   "cell_type": "markdown",
   "metadata": {},
   "source": [
    "## Data Analysis\n"
   ]
  },
  {
   "cell_type": "code",
   "execution_count": null,
   "metadata": {
    "collapsed": true
   },
   "outputs": [],
   "source": []
  }
 ],
 "metadata": {
  "kernelspec": {
   "display_name": "Python 3",
   "language": "python",
   "name": "python3"
  },
  "language_info": {
   "codemirror_mode": {
    "name": "ipython",
    "version": 3
   },
   "file_extension": ".py",
   "mimetype": "text/x-python",
   "name": "python",
   "nbconvert_exporter": "python",
   "pygments_lexer": "ipython3",
   "version": "3.6.0"
  }
 },
 "nbformat": 4,
 "nbformat_minor": 2
}
